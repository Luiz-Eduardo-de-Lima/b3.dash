{
 "cells": [
  {
   "cell_type": "markdown",
   "metadata": {},
   "source": [
    "### Importando as bibliotecas necessárias\n",
    "\n",
    "Caso seja necessário execute os seguintes códigos em um célula vazia:\n",
    "\n",
    "<code>\n",
    "    !pip install pandas\n",
    "</code>"
   ]
  },
  {
   "cell_type": "code",
   "execution_count": 1,
   "metadata": {},
   "outputs": [],
   "source": [
    "from b3_data import *\n",
    "import pandas as pd"
   ]
  },
  {
   "cell_type": "markdown",
   "metadata": {},
   "source": [
    "### Baixando os demonstrativos históricos\n",
    "A função que é o coração desse projeto é a <code>get_statements()</code>, com ela baixamos os demonstrativos tomando como input o período de tempo desejado.\n",
    "\n",
    "Os demonstrativos disponíveis são:\n",
    "\n",
    "| Demonstrativo | Abreviação consolidado | Abreviação individualizado |\n",
    "|---|---|---|\n",
    "| Balanço Patrimonial Ativo | BPA_con | BPA_ind |\n",
    "| Balanço Patrimonial Passivo | BPP_con | BPP_ind |\n",
    "| Demonstrativo de Fluxo de Caixa (Direto)  | DFC_MD_con| DFC_MD_ind |\n",
    "| Demonstrativo de Fluxo de Caixa (Indireto) | DFC_MI_con| DFC_MI_ind |\n",
    "| Demonstratibo de Mutação do Patrimônio Líquido | DMPL_con | DMPL_ind | \n",
    "| Demonstrativo de Resultado Abrangente | DRA_con | DRA_ind\n",
    "| Demonstrativo de Resultado de Exercícios | DRE_con | DRE_ind\n",
    "| Demontrativo de Valor Agregado | DVA_con | DVA_ind\n",
    "\n",
    "Vale ressaltar que a CVM disponibiliza os demonstrativos apenas de 2011 em diante, portanto não é possível baixar os de anos anteriores.\n",
    "\n",
    "Portando, para baixá-los execute a célular a seguir. Pode demorar alguns minutos, lembre-se que são muitos arquivos grandes."
   ]
  },
  {
   "cell_type": "code",
   "execution_count": null,
   "metadata": {},
   "outputs": [],
   "source": [
    "begin = 2011\n",
    "end = 2012\n",
    "\n",
    "get_statements(begin,end)"
   ]
  },
  {
   "cell_type": "code",
   "execution_count": 20,
   "metadata": {},
   "outputs": [
    {
     "data": {
      "text/html": [
       "<div>\n",
       "<style scoped>\n",
       "    .dataframe tbody tr th:only-of-type {\n",
       "        vertical-align: middle;\n",
       "    }\n",
       "\n",
       "    .dataframe tbody tr th {\n",
       "        vertical-align: top;\n",
       "    }\n",
       "\n",
       "    .dataframe thead th {\n",
       "        text-align: right;\n",
       "    }\n",
       "</style>\n",
       "<table border=\"1\" class=\"dataframe\">\n",
       "  <thead>\n",
       "    <tr style=\"text-align: right;\">\n",
       "      <th></th>\n",
       "      <th>DT_FIM_EXERC</th>\n",
       "      <th>2011-03-31</th>\n",
       "      <th>2011-06-30</th>\n",
       "      <th>2011-09-30</th>\n",
       "    </tr>\n",
       "    <tr>\n",
       "      <th>CD_CONTA</th>\n",
       "      <th>DS_CONTA</th>\n",
       "      <th></th>\n",
       "      <th></th>\n",
       "      <th></th>\n",
       "    </tr>\n",
       "  </thead>\n",
       "  <tbody>\n",
       "    <tr>\n",
       "      <th>3.01</th>\n",
       "      <th>Receitas da Intermediação Financeira</th>\n",
       "      <td>20179781.0</td>\n",
       "      <td>32007842.5</td>\n",
       "      <td>47185419.0</td>\n",
       "    </tr>\n",
       "    <tr>\n",
       "      <th>3.01.01</th>\n",
       "      <th>Operações de Crédito</th>\n",
       "      <td>13060692.0</td>\n",
       "      <td>20233486.0</td>\n",
       "      <td>27655949.0</td>\n",
       "    </tr>\n",
       "    <tr>\n",
       "      <th>3.01.02</th>\n",
       "      <th>Operações de Arrendamento Mercantil</th>\n",
       "      <td>5795.0</td>\n",
       "      <td>8418.5</td>\n",
       "      <td>11123.0</td>\n",
       "    </tr>\n",
       "    <tr>\n",
       "      <th>3.01.03</th>\n",
       "      <th>Res. de Op. com Tít. e Val. Mobiliários</th>\n",
       "      <td>5700464.0</td>\n",
       "      <td>9226107.0</td>\n",
       "      <td>15900389.5</td>\n",
       "    </tr>\n",
       "    <tr>\n",
       "      <th>3.01.04</th>\n",
       "      <th>Resul. de Instr. Financeiros Derivativos</th>\n",
       "      <td>-323307.0</td>\n",
       "      <td>-680425.5</td>\n",
       "      <td>150010.5</td>\n",
       "    </tr>\n",
       "  </tbody>\n",
       "</table>\n",
       "</div>"
      ],
      "text/plain": [
       "DT_FIM_EXERC                                       2011-03-31  2011-06-30  \\\n",
       "CD_CONTA DS_CONTA                                                           \n",
       "3.01     Receitas da Intermediação Financeira      20179781.0  32007842.5   \n",
       "3.01.01  Operações de Crédito                      13060692.0  20233486.0   \n",
       "3.01.02  Operações de Arrendamento Mercantil           5795.0      8418.5   \n",
       "3.01.03  Res. de Op. com Tít. e Val. Mobiliários    5700464.0   9226107.0   \n",
       "3.01.04  Resul. de Instr. Financeiros Derivativos   -323307.0   -680425.5   \n",
       "\n",
       "DT_FIM_EXERC                                       2011-09-30  \n",
       "CD_CONTA DS_CONTA                                              \n",
       "3.01     Receitas da Intermediação Financeira      47185419.0  \n",
       "3.01.01  Operações de Crédito                      27655949.0  \n",
       "3.01.02  Operações de Arrendamento Mercantil          11123.0  \n",
       "3.01.03  Res. de Op. com Tít. e Val. Mobiliários   15900389.5  \n",
       "3.01.04  Resul. de Instr. Financeiros Derivativos    150010.5  "
      ]
     },
     "execution_count": 20,
     "metadata": {},
     "output_type": "execute_result"
    }
   ],
   "source": [
    "stt = pd.read_csv('statements/DRE_ind/2011.csv')\n",
    "\n",
    "trimesters = stt['DT_FIM_EXERC'].unique()\n",
    "columns = ['DT_FIM_EXERC','CD_CONTA', 'DS_CONTA', 'VL_CONTA']\n",
    "out_csv = pd.DataFrame(columns = columns)\n",
    "company_stt = stt[columns][(stt['CD_CVM'] == 1023)].pivot_table(index = ['CD_CONTA','DS_CONTA'], columns = 'DT_FIM_EXERC', values = 'VL_CONTA').fillna(0)\n",
    "\n",
    "del stt\n",
    "#for trim in trimesters:\n",
    "#    trim_stt = company_stt[company_stt['DT_FIM_EXERC'] == trim]\n",
    "        \n",
    "#    out_csv = pd.merge(out_csv, trim_stt, on = ['CD_CONTA', 'DS_CONTA'], how = 'outer')\n",
    "#out_csv\n",
    "company_stt.head()"
   ]
  },
  {
   "cell_type": "code",
   "execution_count": 17,
   "metadata": {},
   "outputs": [
    {
     "data": {
      "text/plain": [
       "array(['2011-03-31', '2011-06-30', '2011-09-30', '2011-12-31'],\n",
       "      dtype=object)"
      ]
     },
     "execution_count": 17,
     "metadata": {},
     "output_type": "execute_result"
    }
   ],
   "source": [
    "trimesters"
   ]
  },
  {
   "cell_type": "code",
   "execution_count": 2,
   "metadata": {},
   "outputs": [
    {
     "ename": "NameError",
     "evalue": "name 'statement' is not defined",
     "output_type": "error",
     "traceback": [
      "\u001b[0;31m---------------------------------------------------------------------------\u001b[0m",
      "\u001b[0;31mNameError\u001b[0m                                 Traceback (most recent call last)",
      "\u001b[1;32m/home/ubuntu-luiz/Documents/GitHub/b3.dash/view.ipynb Cell 2\u001b[0m in \u001b[0;36m<module>\u001b[0;34m\u001b[0m\n\u001b[0;32m----> <a href='vscode-notebook-cell:/home/ubuntu-luiz/Documents/GitHub/b3.dash/view.ipynb#W1sZmlsZQ%3D%3D?line=0'>1</a>\u001b[0m base_dir \u001b[39m=\u001b[39m \u001b[39mf\u001b[39m\u001b[39m'\u001b[39m\u001b[39mstatements/\u001b[39m\u001b[39m{\u001b[39;00mstatement\u001b[39m}\u001b[39;00m\u001b[39m'\u001b[39m\n\u001b[1;32m      <a href='vscode-notebook-cell:/home/ubuntu-luiz/Documents/GitHub/b3.dash/view.ipynb#W1sZmlsZQ%3D%3D?line=1'>2</a>\u001b[0m stt_years \u001b[39m=\u001b[39m os\u001b[39m.\u001b[39mlistdir(base_dir)\n\u001b[1;32m      <a href='vscode-notebook-cell:/home/ubuntu-luiz/Documents/GitHub/b3.dash/view.ipynb#W1sZmlsZQ%3D%3D?line=3'>4</a>\u001b[0m \u001b[39mfor\u001b[39;00m stt_y \u001b[39min\u001b[39;00m stt_years:\n",
      "\u001b[0;31mNameError\u001b[0m: name 'statement' is not defined"
     ]
    }
   ],
   "source": [
    "def stt_to_excel(company_code: int, statement: str, period: str):\n",
    "    '''\n",
    "        company_code: código da cvm da empresa,\n",
    "        statement: o demonstrativo que deseja\n",
    "        períod: anualmente (year) ou trimestralmente (trim) \n",
    "    '''\n",
    "\n",
    "    base_dir = f'statements/{statement}'\n",
    "    stt_archives = os.listdir(base_dir)\n",
    "\n",
    "    concatenate_df = pd.DataFrame()\n",
    "    for stt_arch in stt_years:\n",
    "        df = pd.read_csv(\n",
    "                base_dir + stt_y, encoding = 'ISO-8859-1',\n",
    "                sep = ';', decimal = ','\n",
    "            )\n",
    "\n",
    "        comp_stt = df[\n",
    "            ['DT_REFER', 'CD_CONTA', 'DS CONTA', 'VL_CONTA'],\n",
    "            'CD_CVM' == company_code\n",
    "            ]\n",
    "        quarters = comp_stt['DT_REFER'].unique\n",
    "        comp_stt = pd.concat([comp_stt])"
   ]
  }
 ],
 "metadata": {
  "kernelspec": {
   "display_name": "Python 3.8.10 64-bit",
   "language": "python",
   "name": "python3"
  },
  "language_info": {
   "codemirror_mode": {
    "name": "ipython",
    "version": 3
   },
   "file_extension": ".py",
   "mimetype": "text/x-python",
   "name": "python",
   "nbconvert_exporter": "python",
   "pygments_lexer": "ipython3",
   "version": "3.8.10"
  },
  "orig_nbformat": 4,
  "vscode": {
   "interpreter": {
    "hash": "31f2aee4e71d21fbe5cf8b01ff0e069b9275f58929596ceb00d14d90e3e16cd6"
   }
  }
 },
 "nbformat": 4,
 "nbformat_minor": 2
}
